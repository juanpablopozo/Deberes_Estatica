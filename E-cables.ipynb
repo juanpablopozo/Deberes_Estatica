{
 "cells": [
  {
   "cell_type": "code",
   "execution_count": 7,
   "id": "b4dffc5a-a105-4dc4-9e80-64685f526de7",
   "metadata": {},
   "outputs": [],
   "source": [
    "import numpy as np #importar libreria matematica\n",
    "import matplotlib.pyplot as plt #libreria de plots"
   ]
  },
  {
   "cell_type": "markdown",
   "id": "0ca2ce6b-fc2d-469d-99de-020b60ae9901",
   "metadata": {},
   "source": [
    "# ESTÁTICA\n",
    "## EJERCICIO DE APLICACIÓN - CABLES CON CARGAS DISTRIBUIDAS UNIFORMES\n",
    "> Sea el cable AB=70[m], cuya longitud de cable es 75[m] y sometido a una carga distribuida ω=100[N/m]. Tanto A y B se encuentran a la misma altura vertical. El punto más bajo del cable se encuentra a 11,46[m] debajo de la horizontal AB. Hallar las reacciones en los apoyos y las tensiones presentes.\n",
    "![title](E-sample_cables.distribuidos.png)\n",
    "\n",
    "<br> Tomando un fragmento del cable y realizando un DCL para determinar las cargas que actúan, se tiene que:\n",
    "![title](E-sample_cables.dcl.png)\n",
    "\n",
    "> Planteando las ecuaciones de equilibrio:\n",
    "\n",
    "$$\\sum{M_A}=-W(17,5)+T_0(11.45)=0...Ec.1$$ \n",
    "$$T=\\sqrt{T_0^2+W^2}...Ec.2$$\n",
    "$$\\theta=tan^{-1}(W/T_0)...Ec.3$$"
   ]
  },
  {
   "cell_type": "code",
   "execution_count": 9,
   "id": "9350872d-0f5a-4517-9088-3b4a9ccaad38",
   "metadata": {},
   "outputs": [
    {
     "name": "stdout",
     "output_type": "stream",
     "text": [
      "la tensión horizontal es [N] 534467.7137870855\n",
      "la tensión en A es [N] 638870.6732045179\n",
      "el ángulo de la tensión en A es [deg] 33.2190706667696\n"
     ]
    }
   ],
   "source": [
    "#En el análisis de la carga distribuida en la sección\n",
    "w=100 #N/m\n",
    "x=35*w #N\n",
    "W=w*x\n",
    "L=70 #[m]Longitud del cable\n",
    "xA=17.5 #[m]Longitud desde C hasta A\n",
    "y=11.46 #[m]Altura vertical \n",
    "\n",
    "#Sumatoria de momentos alrededor de A, de la Ec.1\n",
    "T0=W*17.5/y #La tensión horizontal T0\n",
    "print(\"la tensión horizontal es [N]\",T0)\n",
    "#De la Ec.2\n",
    "TA=np.sqrt(T0**2+W**2)\n",
    "print(\"la tensión en A es [N]\",TA)\n",
    "#De la Ec.3\n",
    "h=np.arctan((W/T0))\n",
    "H=np.rad2deg(h)\n",
    "print(\"el ángulo de la tensión en A es [deg]\",H)"
   ]
  },
  {
   "cell_type": "markdown",
   "id": "36329d71-6568-485b-b771-4055598b7fb5",
   "metadata": {},
   "source": [
    "> Planteando las ecuaciones de equilibrio para todo el sistema:\n",
    "\n",
    "$$\\sum{F_x}=-A_x+B_x=0...Ec.4$$\n",
    "$$\\sum{F_y}=A_y+B_y-W=0...Ec.5$$\n",
    "$$\\sum{M_A}=-W(35)+B_y(70)=0...Ec.6$$"
   ]
  },
  {
   "cell_type": "code",
   "execution_count": 6,
   "id": "6bc8f9a0-d1a9-4c2f-8195-7b12be6487e9",
   "metadata": {},
   "outputs": [
    {
     "name": "stdout",
     "output_type": "stream",
     "text": [
      "la reacción en Ax es [N] 534467.7137870855\n",
      "la reacción en Bx es [N] 534467.7137870855\n",
      "la reacción en By es [N] 350000.0\n",
      "la reacción en Ay es [N] 350000.0\n"
     ]
    }
   ],
   "source": [
    "#En el análisis de la carga distribuida en el sistema\n",
    "w=100 #N/m\n",
    "x=70*w #N\n",
    "W=w*x\n",
    "L=70 #[m]Longitud del cable\n",
    "xA=35 #[m]Longitud desde C hasta A\n",
    "y=11.46 #[m]Altura vertical \n",
    "#De la Ec.4\n",
    "Ax=T0\n",
    "print(\"la reacción en Ax es [N]\",Ax)\n",
    "Bx=T0\n",
    "print(\"la reacción en Bx es [N]\",Bx)\n",
    "#De la Ec.6\n",
    "By=35*W/L\n",
    "print(\"la reacción en By es [N]\",By)\n",
    "#De la Ec.5\n",
    "Ay=W-By\n",
    "print(\"la reacción en Ay es [N]\",Ay)"
   ]
  },
  {
   "cell_type": "code",
   "execution_count": null,
   "id": "df390eb5-149d-4c0c-a500-37008ae47011",
   "metadata": {},
   "outputs": [],
   "source": []
  }
 ],
 "metadata": {
  "kernelspec": {
   "display_name": "Python 3",
   "language": "python",
   "name": "python3"
  },
  "language_info": {
   "codemirror_mode": {
    "name": "ipython",
    "version": 3
   },
   "file_extension": ".py",
   "mimetype": "text/x-python",
   "name": "python",
   "nbconvert_exporter": "python",
   "pygments_lexer": "ipython3",
   "version": "3.8.8"
  }
 },
 "nbformat": 4,
 "nbformat_minor": 5
}
